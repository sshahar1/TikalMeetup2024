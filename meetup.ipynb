{
 "cells": [
  {
   "metadata": {
    "ExecuteTime": {
     "end_time": "2024-07-20T12:52:28.172710Z",
     "start_time": "2024-07-20T12:52:28.168643Z"
    }
   },
   "cell_type": "code",
   "source": [
    "# Load environment variables from .env file\n",
    "%load_ext dotenv\n",
    "%dotenv"
   ],
   "id": "initial_id",
   "outputs": [
    {
     "name": "stdout",
     "output_type": "stream",
     "text": [
      "The dotenv extension is already loaded. To reload it, use:\n",
      "  %reload_ext dotenv\n"
     ]
    }
   ],
   "execution_count": 216
  },
  {
   "metadata": {},
   "cell_type": "markdown",
   "source": "# Create Graph with a state of all messages",
   "id": "68203a93b818ec23"
  },
  {
   "metadata": {
    "ExecuteTime": {
     "end_time": "2024-07-20T12:52:28.196854Z",
     "start_time": "2024-07-20T12:52:28.193764Z"
    }
   },
   "cell_type": "code",
   "source": [
    "from langgraph.graph import add_messages, StateGraph\n",
    "from typing_extensions import TypedDict\n",
    "from typing import Annotated\n",
    "from langgraph.checkpoint.sqlite import SqliteSaver\n",
    "\n",
    "class State(TypedDict):\n",
    "    # Messages have the type \"list\". The `add_messages` function\n",
    "    # in the annotation defines how this state key should be updated\n",
    "    # (in this case, it appends messages to the list, rather than overwriting them)\n",
    "    messages: Annotated[list, add_messages]\n",
    "    event_type: str\n",
    "    location: str\n",
    "    labels: str\n",
    "    \n",
    "graph_builder = StateGraph(State)"
   ],
   "id": "20e5ca8b58590a50",
   "outputs": [],
   "execution_count": 217
  },
  {
   "metadata": {},
   "cell_type": "markdown",
   "source": "# Connection to Couchbase's vector store",
   "id": "867d449ad19ec656"
  },
  {
   "metadata": {
    "ExecuteTime": {
     "end_time": "2024-07-20T12:52:31.875748Z",
     "start_time": "2024-07-20T12:52:28.198082Z"
    }
   },
   "cell_type": "code",
   "source": [
    "from langchain_openai import OpenAIEmbeddings\n",
    "import os\n",
    "from couchbase.cluster import Cluster\n",
    "from couchbase.options import ClusterOptions\n",
    "from couchbase.auth import PasswordAuthenticator\n",
    "from langchain_couchbase import CouchbaseVectorStore\n",
    "\n",
    "COUCHBASE_CONNECTION_STRING = os.environ[\"COUCHBASE_CONNECTION_STRING\"]\n",
    "COUCH_USER = os.environ[\"COUCHBASE_USER\"]\n",
    "COUCH_PASS = os.environ[\"COUCHBASE_PASS\"]\n",
    "BUCKET_NAME = os.environ[\"COUCHBASE_BUCKET\"]\n",
    "SCOPE_NAME = os.environ[\"COUCHBASE_SCOPE\"]\n",
    "COLLECTION_NAME = os.environ[\"COUCHBASE_COLLECTION\"]\n",
    "SEARCH_INDEX_NAME = os.environ[\"COUCHBASE_SEARCH_INDEX\"]\n",
    "\n",
    "auth = PasswordAuthenticator(COUCH_USER, COUCH_PASS)\n",
    "options = ClusterOptions(auth)\n",
    "cluster = Cluster(COUCHBASE_CONNECTION_STRING, options)\n",
    "embedding = OpenAIEmbeddings()\n",
    "embedding.model = \"text-embedding-3-small\"\n",
    "\n",
    "vector_store = CouchbaseVectorStore(\n",
    "    cluster=cluster,\n",
    "    bucket_name=BUCKET_NAME,\n",
    "    scope_name=SCOPE_NAME,\n",
    "    collection_name=COLLECTION_NAME,\n",
    "    embedding=embedding,\n",
    "    index_name=SEARCH_INDEX_NAME,\n",
    ")"
   ],
   "id": "f46dbf4419df970f",
   "outputs": [],
   "execution_count": 218
  },
  {
   "metadata": {},
   "cell_type": "markdown",
   "source": "# Create Graph instance",
   "id": "4d71c72fd039963e"
  },
  {
   "metadata": {
    "ExecuteTime": {
     "end_time": "2024-07-20T12:52:31.910845Z",
     "start_time": "2024-07-20T12:52:31.877390Z"
    }
   },
   "cell_type": "code",
   "source": [
    "from langchain_core.prompts import ChatPromptTemplate\n",
    "from langchain_core.output_parsers import StrOutputParser\n",
    "from langchain_openai import ChatOpenAI\n",
    "\n",
    "llm = ChatOpenAI(model=\"gpt-3.5-turbo\")\n",
    "template = \"\"\"You are a helpful bot that serves the purpose of finding events for artists looking for venues in the USA. If you cannot answer based on the context provided, respond with a generic\n",
    "    answer. Answer the question as truthfully as possible using the context below: {context}\n",
    "Please also format the result in Markdown format.\n",
    "            Question: {question}\"\"\"\n",
    "\n",
    "prompt = ChatPromptTemplate.from_template(template)\n",
    "\n",
    "generation_chain = prompt | llm | StrOutputParser()\n",
    "\n",
    "\n",
    "def chatbot(state: State):\n",
    "    response = generation_chain.invoke({\"context\": state['messages'], \"question\": f\"We are a {state['event_type']} amateur group looking for {state['labels']} festivals in {state['location']}, can you please recommend some for us to reach out to?\"})\n",
    "    state['messages'].append(response)\n",
    "    return state\n",
    "\n",
    "def search_couchbase(state: State):\n",
    "    query = f\"\"\"\n",
    "    Geo Info: {state['location']}\n",
    "    Category: {state['event_type']}\n",
    "    \"\"\"\n",
    "    retriever = vector_store.as_retriever()\n",
    "    results = retriever.invoke(query)\n",
    "    print(f\"RAG Search results: {results}\")\n",
    "    # state['messages'].append(HumanMessage(f\"Search results: {results}\"))\n",
    "    # print(f\"number of messages in state: {len(state['messages'])}\")\n",
    "    # print(f\"Message number 1 of state: {state['messages'][0]}\")\n",
    "    # print(f\"Message number 2 of state: {state['messages'][1]}\")\n",
    "    return state\n",
    "\n",
    "graph_builder.add_node(\"vector_search\", search_couchbase)\n",
    "graph_builder.add_node(\"chatbot\", chatbot)\n",
    "graph_builder.set_entry_point(\"vector_search\")\n",
    "graph_builder.add_edge(\"vector_search\", \"chatbot\")\n",
    "\n",
    "memory = SqliteSaver.from_conn_string(\":memory:\")\n",
    "graph = graph_builder.compile(checkpointer=memory)\n"
   ],
   "id": "bf99b1cc4dc77656",
   "outputs": [],
   "execution_count": 219
  },
  {
   "metadata": {},
   "cell_type": "markdown",
   "source": "# Interaction",
   "id": "5e3d117373471e06"
  },
  {
   "metadata": {
    "ExecuteTime": {
     "end_time": "2024-07-20T12:59:36.457923Z",
     "start_time": "2024-07-20T12:59:34.281038Z"
    }
   },
   "cell_type": "code",
   "source": [
    "from random import randint\n",
    "from IPython.core.display import Markdown\n",
    "\n",
    "session_id = randint(1, 10000)\n",
    "config = {\"configurable\": {\"thread_id\": session_id}}\n",
    "\n",
    "input_location = \"Florida, USA\"\n",
    "input_category = \"Music\"\n",
    "input_labels = \"music\"\n",
    "for event in graph.stream({\"event_type\": input_category, \"location\": input_location, \"labels\": input_labels}, config):\n",
    "    for value in event.values():\n",
    "        if len(value['messages']) > 0:\n",
    "            display(Markdown(value['messages'][-1]))"
   ],
   "id": "6a715c9226fcbbf5",
   "outputs": [
    {
     "name": "stdout",
     "output_type": "stream",
     "text": [
      "RAG Search results: []\n"
     ]
    },
    {
     "data": {
      "text/plain": [
       "<IPython.core.display.Markdown object>"
      ],
      "text/markdown": "Sure! Here are some music festivals in Florida, USA that you can reach out to:\n\n1. **Ultra Music Festival** - Miami\n2. **SunFest** - West Palm Beach\n3. **Gasparilla Music Festival** - Tampa\n4. **Okeechobee Music & Arts Festival** - Okeechobee\n5. **Tortuga Music Festival** - Fort Lauderdale\n\nI hope this helps!"
     },
     "metadata": {},
     "output_type": "display_data"
    }
   ],
   "execution_count": 222
  }
 ],
 "metadata": {
  "kernelspec": {
   "display_name": "Python 3",
   "language": "python",
   "name": "python3"
  },
  "language_info": {
   "codemirror_mode": {
    "name": "ipython",
    "version": 2
   },
   "file_extension": ".py",
   "mimetype": "text/x-python",
   "name": "python",
   "nbconvert_exporter": "python",
   "pygments_lexer": "ipython2",
   "version": "2.7.6"
  }
 },
 "nbformat": 4,
 "nbformat_minor": 5
}
