{
 "cells": [
  {
   "metadata": {
    "ExecuteTime": {
     "end_time": "2024-07-21T16:59:19.122881Z",
     "start_time": "2024-07-21T16:59:19.116841Z"
    }
   },
   "cell_type": "code",
   "source": [
    "# Load environment variables from .env file\n",
    "%load_ext dotenv\n",
    "%dotenv"
   ],
   "id": "initial_id",
   "outputs": [
    {
     "name": "stdout",
     "output_type": "stream",
     "text": [
      "The dotenv extension is already loaded. To reload it, use:\n",
      "  %reload_ext dotenv\n"
     ]
    }
   ],
   "execution_count": 83
  },
  {
   "metadata": {},
   "cell_type": "markdown",
   "source": "# Create Graph with a state of all messages",
   "id": "68203a93b818ec23"
  },
  {
   "metadata": {
    "ExecuteTime": {
     "end_time": "2024-07-21T16:59:19.128572Z",
     "start_time": "2024-07-21T16:59:19.124280Z"
    }
   },
   "cell_type": "code",
   "source": [
    "from langgraph.graph import add_messages, StateGraph\n",
    "from typing_extensions import TypedDict\n",
    "from typing import Annotated\n",
    "from langgraph.checkpoint.sqlite import SqliteSaver\n",
    "\n",
    "class State(TypedDict):\n",
    "    # Messages have the type \"list\". The `add_messages` function\n",
    "    # in the annotation defines how this state key should be updated\n",
    "    # (in this case, it appends messages to the list, rather than overwriting them)\n",
    "    messages: Annotated[list, add_messages]\n",
    "    event_type: str\n",
    "    location: str\n",
    "    labels: str\n",
    "    \n",
    "graph_builder = StateGraph(State)"
   ],
   "id": "20e5ca8b58590a50",
   "outputs": [],
   "execution_count": 84
  },
  {
   "metadata": {},
   "cell_type": "markdown",
   "source": "# Connection to Couchbase's vector store",
   "id": "867d449ad19ec656"
  },
  {
   "metadata": {
    "ExecuteTime": {
     "end_time": "2024-07-21T16:59:22.092096Z",
     "start_time": "2024-07-21T16:59:19.129591Z"
    }
   },
   "cell_type": "code",
   "source": [
    "from langchain_openai import OpenAIEmbeddings\n",
    "import os\n",
    "from couchbase.cluster import Cluster\n",
    "from couchbase.options import ClusterOptions\n",
    "from couchbase.auth import PasswordAuthenticator\n",
    "from langchain_couchbase import CouchbaseVectorStore\n",
    "\n",
    "COUCHBASE_CONNECTION_STRING = os.environ[\"COUCHBASE_CONNECTION_STRING\"]\n",
    "COUCH_USER = os.environ[\"COUCHBASE_USER\"]\n",
    "COUCH_PASS = os.environ[\"COUCHBASE_PASS\"]\n",
    "BUCKET_NAME = os.environ[\"COUCHBASE_BUCKET\"]\n",
    "SCOPE_NAME = os.environ[\"COUCHBASE_SCOPE\"]\n",
    "COLLECTION_NAME = os.environ[\"COUCHBASE_COLLECTION\"]\n",
    "SEARCH_INDEX_NAME = os.environ[\"COUCHBASE_SEARCH_INDEX\"]\n",
    "\n",
    "auth = PasswordAuthenticator(COUCH_USER, COUCH_PASS)\n",
    "options = ClusterOptions(auth)\n",
    "cluster = Cluster(COUCHBASE_CONNECTION_STRING, options)\n",
    "embedding = OpenAIEmbeddings(model=\"text-embedding-3-small\")\n",
    "\n",
    "vector_store = CouchbaseVectorStore(\n",
    "    cluster=cluster,\n",
    "    bucket_name=BUCKET_NAME,\n",
    "    scope_name=SCOPE_NAME,\n",
    "    collection_name=COLLECTION_NAME,\n",
    "    embedding=embedding,\n",
    "    index_name=SEARCH_INDEX_NAME,\n",
    "    embedding_key='embeddings'\n",
    ")\n"
   ],
   "id": "f46dbf4419df970f",
   "outputs": [
    {
     "ename": "ValueError",
     "evalue": "Collection events not found in scope meetup in Couchbase bucket meetup",
     "output_type": "error",
     "traceback": [
      "\u001B[0;31m---------------------------------------------------------------------------\u001B[0m",
      "\u001B[0;31mValueError\u001B[0m                                Traceback (most recent call last)",
      "Cell \u001B[0;32mIn[85], line 21\u001B[0m\n\u001B[1;32m     18\u001B[0m cluster \u001B[38;5;241m=\u001B[39m Cluster(COUCHBASE_CONNECTION_STRING, options)\n\u001B[1;32m     19\u001B[0m embedding \u001B[38;5;241m=\u001B[39m OpenAIEmbeddings(model\u001B[38;5;241m=\u001B[39m\u001B[38;5;124m\"\u001B[39m\u001B[38;5;124mtext-embedding-3-small\u001B[39m\u001B[38;5;124m\"\u001B[39m)\n\u001B[0;32m---> 21\u001B[0m vector_store \u001B[38;5;241m=\u001B[39m \u001B[43mCouchbaseVectorStore\u001B[49m\u001B[43m(\u001B[49m\n\u001B[1;32m     22\u001B[0m \u001B[43m    \u001B[49m\u001B[43mcluster\u001B[49m\u001B[38;5;241;43m=\u001B[39;49m\u001B[43mcluster\u001B[49m\u001B[43m,\u001B[49m\n\u001B[1;32m     23\u001B[0m \u001B[43m    \u001B[49m\u001B[43mbucket_name\u001B[49m\u001B[38;5;241;43m=\u001B[39;49m\u001B[43mBUCKET_NAME\u001B[49m\u001B[43m,\u001B[49m\n\u001B[1;32m     24\u001B[0m \u001B[43m    \u001B[49m\u001B[43mscope_name\u001B[49m\u001B[38;5;241;43m=\u001B[39;49m\u001B[43mSCOPE_NAME\u001B[49m\u001B[43m,\u001B[49m\n\u001B[1;32m     25\u001B[0m \u001B[43m    \u001B[49m\u001B[43mcollection_name\u001B[49m\u001B[38;5;241;43m=\u001B[39;49m\u001B[43mCOLLECTION_NAME\u001B[49m\u001B[43m,\u001B[49m\n\u001B[1;32m     26\u001B[0m \u001B[43m    \u001B[49m\u001B[43membedding\u001B[49m\u001B[38;5;241;43m=\u001B[39;49m\u001B[43membedding\u001B[49m\u001B[43m,\u001B[49m\n\u001B[1;32m     27\u001B[0m \u001B[43m    \u001B[49m\u001B[43mindex_name\u001B[49m\u001B[38;5;241;43m=\u001B[39;49m\u001B[43mSEARCH_INDEX_NAME\u001B[49m\u001B[43m,\u001B[49m\n\u001B[1;32m     28\u001B[0m \u001B[43m    \u001B[49m\u001B[43membedding_key\u001B[49m\u001B[38;5;241;43m=\u001B[39;49m\u001B[38;5;124;43m'\u001B[39;49m\u001B[38;5;124;43membeddings\u001B[39;49m\u001B[38;5;124;43m'\u001B[39;49m\n\u001B[1;32m     29\u001B[0m \u001B[43m)\u001B[49m\n",
      "File \u001B[0;32m~/Library/Caches/pypoetry/virtualenvs/meetupjuly2024-mpjv7HC7-py3.11/lib/python3.11/site-packages/langchain_couchbase/vectorstores.py:219\u001B[0m, in \u001B[0;36mCouchbaseVectorStore.__init__\u001B[0;34m(self, cluster, bucket_name, scope_name, collection_name, embedding, index_name, text_key, embedding_key, scoped_index)\u001B[0m\n\u001B[1;32m    217\u001B[0m     \u001B[38;5;28mself\u001B[39m\u001B[38;5;241m.\u001B[39m_check_scope_and_collection_exists()\n\u001B[1;32m    218\u001B[0m \u001B[38;5;28;01mexcept\u001B[39;00m \u001B[38;5;167;01mException\u001B[39;00m \u001B[38;5;28;01mas\u001B[39;00m e:\n\u001B[0;32m--> 219\u001B[0m     \u001B[38;5;28;01mraise\u001B[39;00m e\n\u001B[1;32m    221\u001B[0m \u001B[38;5;66;03m# Check if the index exists. Throws ValueError if it doesn't\u001B[39;00m\n\u001B[1;32m    222\u001B[0m \u001B[38;5;28;01mtry\u001B[39;00m:\n",
      "File \u001B[0;32m~/Library/Caches/pypoetry/virtualenvs/meetupjuly2024-mpjv7HC7-py3.11/lib/python3.11/site-packages/langchain_couchbase/vectorstores.py:217\u001B[0m, in \u001B[0;36mCouchbaseVectorStore.__init__\u001B[0;34m(self, cluster, bucket_name, scope_name, collection_name, embedding, index_name, text_key, embedding_key, scoped_index)\u001B[0m\n\u001B[1;32m    215\u001B[0m \u001B[38;5;66;03m# Check if the scope and collection exists. Throws ValueError if they don't\u001B[39;00m\n\u001B[1;32m    216\u001B[0m \u001B[38;5;28;01mtry\u001B[39;00m:\n\u001B[0;32m--> 217\u001B[0m     \u001B[38;5;28;43mself\u001B[39;49m\u001B[38;5;241;43m.\u001B[39;49m\u001B[43m_check_scope_and_collection_exists\u001B[49m\u001B[43m(\u001B[49m\u001B[43m)\u001B[49m\n\u001B[1;32m    218\u001B[0m \u001B[38;5;28;01mexcept\u001B[39;00m \u001B[38;5;167;01mException\u001B[39;00m \u001B[38;5;28;01mas\u001B[39;00m e:\n\u001B[1;32m    219\u001B[0m     \u001B[38;5;28;01mraise\u001B[39;00m e\n",
      "File \u001B[0;32m~/Library/Caches/pypoetry/virtualenvs/meetupjuly2024-mpjv7HC7-py3.11/lib/python3.11/site-packages/langchain_couchbase/vectorstores.py:104\u001B[0m, in \u001B[0;36mCouchbaseVectorStore._check_scope_and_collection_exists\u001B[0;34m(self)\u001B[0m\n\u001B[1;32m    102\u001B[0m \u001B[38;5;66;03m# Check if the collection exists in the scope\u001B[39;00m\n\u001B[1;32m    103\u001B[0m \u001B[38;5;28;01mif\u001B[39;00m \u001B[38;5;28mself\u001B[39m\u001B[38;5;241m.\u001B[39m_collection_name \u001B[38;5;129;01mnot\u001B[39;00m \u001B[38;5;129;01min\u001B[39;00m scope_collection_map[\u001B[38;5;28mself\u001B[39m\u001B[38;5;241m.\u001B[39m_scope_name]:\n\u001B[0;32m--> 104\u001B[0m     \u001B[38;5;28;01mraise\u001B[39;00m \u001B[38;5;167;01mValueError\u001B[39;00m(\n\u001B[1;32m    105\u001B[0m         \u001B[38;5;124mf\u001B[39m\u001B[38;5;124m\"\u001B[39m\u001B[38;5;124mCollection \u001B[39m\u001B[38;5;132;01m{\u001B[39;00m\u001B[38;5;28mself\u001B[39m\u001B[38;5;241m.\u001B[39m_collection_name\u001B[38;5;132;01m}\u001B[39;00m\u001B[38;5;124m not found in scope \u001B[39m\u001B[38;5;124m\"\u001B[39m\n\u001B[1;32m    106\u001B[0m         \u001B[38;5;124mf\u001B[39m\u001B[38;5;124m\"\u001B[39m\u001B[38;5;132;01m{\u001B[39;00m\u001B[38;5;28mself\u001B[39m\u001B[38;5;241m.\u001B[39m_scope_name\u001B[38;5;132;01m}\u001B[39;00m\u001B[38;5;124m in Couchbase bucket \u001B[39m\u001B[38;5;132;01m{\u001B[39;00m\u001B[38;5;28mself\u001B[39m\u001B[38;5;241m.\u001B[39m_bucket_name\u001B[38;5;132;01m}\u001B[39;00m\u001B[38;5;124m\"\u001B[39m\n\u001B[1;32m    107\u001B[0m     )\n\u001B[1;32m    109\u001B[0m \u001B[38;5;28;01mreturn\u001B[39;00m \u001B[38;5;28;01mTrue\u001B[39;00m\n",
      "\u001B[0;31mValueError\u001B[0m: Collection events not found in scope meetup in Couchbase bucket meetup"
     ]
    }
   ],
   "execution_count": 85
  },
  {
   "metadata": {},
   "cell_type": "markdown",
   "source": "# Create Graph instance",
   "id": "4d71c72fd039963e"
  },
  {
   "metadata": {},
   "cell_type": "code",
   "source": [
    "from langchain_core.prompts import ChatPromptTemplate\n",
    "from langchain_core.output_parsers import StrOutputParser\n",
    "from langchain_openai import ChatOpenAI\n",
    "\n",
    "llm = ChatOpenAI(model=\"gpt-3.5-turbo\")\n",
    "template = \"\"\"You are a helpful bot that serves the purpose of finding events for artists looking for venues in the USA. If you cannot answer based on the context provided, respond with a generic\n",
    "    answer. Answer the question as truthfully as possible using the context below: {context}\n",
    "Please also format the result in Markdown format.\n",
    "            Question: {question}\"\"\"\n",
    "\n",
    "prompt = ChatPromptTemplate.from_template(template)\n",
    "\n",
    "generation_chain = prompt | llm | StrOutputParser()\n",
    "\n",
    "\n",
    "def chatbot(state: State):\n",
    "    response = generation_chain.invoke({\"context\": state['messages'], \"question\": f\"We are a {state['event_type']} amateur group looking for {state['labels']} festivals in {state['location']}, can you please recommend some for us to reach out to?\"})\n",
    "    state['messages'].append(response)\n",
    "    return state\n",
    "\n",
    "def search_couchbase(state: State):\n",
    "    query = f\"Geo Info: {state['location']}\"\n",
    "    \n",
    "    retriever = vector_store.as_retriever()\n",
    "    results = retriever.invoke(query)\n",
    "    for result in results:\n",
    "        text = f\"Title: {result.metadata['title']}/{result.metadata['alternate_titles_flat']} - {result.metadata['description']} from {result.metadata['start']} to {result.metadata['end']}, location {result.metadata['geo_info']}. Labels {result.metadata['labels']}, category {result.metadata['category']}\"\n",
    "        state['messages'].append(text)\n",
    "    return state\n",
    "\n",
    "graph_builder.add_node(\"vector_search\", search_couchbase)\n",
    "graph_builder.add_node(\"chatbot\", chatbot)\n",
    "graph_builder.set_entry_point(\"vector_search\")\n",
    "graph_builder.add_edge(\"vector_search\", \"chatbot\")\n",
    "graph_builder.set_finish_point(\"chatbot\")\n",
    "\n",
    "memory = SqliteSaver.from_conn_string(\":memory:\")\n",
    "graph = graph_builder.compile(checkpointer=memory)\n"
   ],
   "id": "bf99b1cc4dc77656",
   "outputs": [],
   "execution_count": null
  },
  {
   "metadata": {},
   "cell_type": "markdown",
   "source": "# Interaction",
   "id": "5e3d117373471e06"
  },
  {
   "metadata": {
    "ExecuteTime": {
     "end_time": "2024-07-21T16:59:32.430298Z",
     "start_time": "2024-07-21T16:59:26.577189Z"
    }
   },
   "cell_type": "code",
   "source": [
    "from random import randint\n",
    "from IPython.core.display import Markdown\n",
    "\n",
    "session_id = randint(1, 10000)\n",
    "config = {\"configurable\": {\"thread_id\": session_id}}\n",
    "\n",
    "input_location = \"Seatle\"\n",
    "input_category = \"Dance\"\n",
    "input_labels = \"folklore\"\n",
    "\n",
    "# Stream the graph, each output will be printed when ready\n",
    "for event in graph.stream({\"event_type\": input_category, \"location\": input_location, \"labels\": input_labels}, config):\n",
    "    for value in event.values():\n",
    "        if len(value['messages']) > 0:\n",
    "            display(Markdown(value['messages'][-1]))"
   ],
   "id": "6a715c9226fcbbf5",
   "outputs": [
    {
     "data": {
      "text/plain": [
       "<IPython.core.display.Markdown object>"
      ],
      "text/markdown": "Title: Stayin Alive - Bee Gees Tribute/Stayin' Alive - The Ultimate Bee Gees Show, Stayin' Alive: One Night of the Bee Gees -  from 2024-10-05T02:30:00Z to 2024-10-05T02:30:00Z, location 1303 NE 45th St, Seattle, WA 98105, USA. Labels ['concert', 'music'], category concerts"
     },
     "metadata": {},
     "output_type": "display_data"
    },
    {
     "data": {
      "text/plain": [
       "<IPython.core.display.Markdown object>"
      ],
      "text/markdown": "### Events in Seattle, WA\n\n- **Soul Asylum: Slowly But Shirley Tour**\n  - **Date:** October 7, 2024\n  - **Time:** 02:00 AM\n  - **Location:** 1303 NE 45th St, Seattle, WA 98105, USA\n  - **Description:** Soul Asylum concert at The Neptune\n  - **Category:** Concerts\n  \n- **Summer Salt - Driving Back to Hawaii Fall Tour**\n  - **Date:** October 6, 2024\n  - **Time:** 03:00 AM\n  - **Location:** 1303 NE 45th St, Seattle, WA 98105, USA\n  - **Description:** Summer Salt concert at The Neptune\n  - **Category:** Concerts\n  \n- **Badflower - No Place Like Home Tour 2024**\n  - **Date:** October 8, 2024\n  - **Time:** 02:00 AM\n  - **Location:** 1303 NE 45th St, Seattle, WA 98105, USA\n  - **Description:** Badflower and Slothrust concert at The Neptune\n  - **Category:** Concerts\n  \n- **Stayin' Alive: One Night of the Bee Gees**\n  - **Date:** October 5, 2024\n  - **Time:** 02:30 AM\n  - **Location:** 1303 NE 45th St, Seattle, WA 98105, USA\n  - **Description:** Bee Gees tribute concert at The Neptune\n  - **Category:** Concerts\n\nUnfortunately, based on the provided events, there are no folklore festivals in Seattle."
     },
     "metadata": {},
     "output_type": "display_data"
    }
   ],
   "execution_count": 86
  }
 ],
 "metadata": {
  "kernelspec": {
   "display_name": "Python 3",
   "language": "python",
   "name": "python3"
  },
  "language_info": {
   "codemirror_mode": {
    "name": "ipython",
    "version": 2
   },
   "file_extension": ".py",
   "mimetype": "text/x-python",
   "name": "python",
   "nbconvert_exporter": "python",
   "pygments_lexer": "ipython2",
   "version": "2.7.6"
  }
 },
 "nbformat": 4,
 "nbformat_minor": 5
}
