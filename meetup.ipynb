{
 "cells": [
  {
   "metadata": {
    "ExecuteTime": {
     "end_time": "2024-07-11T19:01:00.378325Z",
     "start_time": "2024-07-11T19:01:00.358296Z"
    }
   },
   "cell_type": "code",
   "source": [
    "# Load environment variables from .env file\n",
    "%load_ext dotenv\n",
    "%dotenv"
   ],
   "id": "initial_id",
   "outputs": [],
   "execution_count": 1
  },
  {
   "metadata": {
    "ExecuteTime": {
     "end_time": "2024-07-11T19:01:42.894534Z",
     "start_time": "2024-07-11T19:01:42.889340Z"
    }
   },
   "cell_type": "code",
   "source": [
    "from langgraph.graph import add_messages, StateGraph\n",
    "from typing_extensions import TypedDict\n",
    "from typing import Annotated\n",
    "from langgraph.checkpoint.sqlite import SqliteSaver\n",
    "\n",
    "class State(TypedDict):\n",
    "    # Messages have the type \"list\". The `add_messages` function\n",
    "    # in the annotation defines how this state key should be updated\n",
    "    # (in this case, it appends messages to the list, rather than overwriting them)\n",
    "    messages: Annotated[list, add_messages]\n",
    "    question: str\n",
    "    \n",
    "graph_builder = StateGraph(State)"
   ],
   "id": "20e5ca8b58590a50",
   "outputs": [],
   "execution_count": 5
  },
  {
   "metadata": {},
   "cell_type": "code",
   "outputs": [],
   "execution_count": null,
   "source": [
    "vector_store = CouchbaseVectorStore(\n",
    "    cluster=cluster,\n",
    "    bucket_name=BUCKET_NAME,\n",
    "    scope_name=SCOPE_NAME,\n",
    "    collection_name=COLLECTION_NAME,\n",
    "    embedding=embedding,\n",
    "    index_name=document[\"search_index_name\"],\n",
    ")"
   ],
   "id": "f46dbf4419df970f"
  },
  {
   "metadata": {
    "ExecuteTime": {
     "end_time": "2024-07-11T19:01:44.576121Z",
     "start_time": "2024-07-11T19:01:44.555066Z"
    }
   },
   "cell_type": "code",
   "source": [
    "from langchain_core.output_parsers import JsonOutputParser\n",
    "from langchain_openai import ChatOpenAI\n",
    "\n",
    "llm = ChatOpenAI(model=\"gpt-3.5-turbo\")\n",
    "\n",
    "def chatbot(state: State):\n",
    "    context = \" \".join(state['messages'])  # Use all messages as context\n",
    "    response = llm.generate(context)\n",
    "    # Add the response to the messages\n",
    "    state['messages'].append(f\"Chatbot response: {response}\")\n",
    "    return state\n",
    "\n",
    "def search_couchbase(state: State):\n",
    "    query = state['question']\n",
    "    retriever = vector_store.as_retriever()\n",
    "    results = retriever.invoke(query)\n",
    "    # Add the results to the messages\n",
    "    state['messages'].append(f\"Search results: {results}\")\n",
    "    return state\n",
    "\n",
    "graph_builder.add_node(\"vector_search\", search_couchbase)\n",
    "graph_builder.add_node(\"chatbot\", chatbot)\n",
    "graph_builder.set_entry_point(\"vector_search\")\n",
    "graph_builder.add_edge(\"vector_search\", \"chatbot\")\n",
    "\n",
    "memory = SqliteSaver.from_conn_string(\":memory:\")\n",
    "graph = graph_builder.compile(checkpointer=memory)"
   ],
   "id": "bf99b1cc4dc77656",
   "outputs": [],
   "execution_count": 6
  },
  {
   "metadata": {},
   "cell_type": "code",
   "outputs": [],
   "execution_count": null,
   "source": [
    "while True:\n",
    "    user_input = input(\"User: \")\n",
    "    if user_input.lower() in [\"quit\", \"exit\", \"q\"]:\n",
    "        print(\"Goodbye!\")\n",
    "        break\n",
    "    for event in graph.stream({\"messages\": (\"user\", user_input)}):\n",
    "        for value in event.values():\n",
    "            print(\"Assistant:\", value[\"messages\"][-1].content)"
   ],
   "id": "6a715c9226fcbbf5"
  }
 ],
 "metadata": {
  "kernelspec": {
   "display_name": "Python 3",
   "language": "python",
   "name": "python3"
  },
  "language_info": {
   "codemirror_mode": {
    "name": "ipython",
    "version": 2
   },
   "file_extension": ".py",
   "mimetype": "text/x-python",
   "name": "python",
   "nbconvert_exporter": "python",
   "pygments_lexer": "ipython2",
   "version": "2.7.6"
  }
 },
 "nbformat": 4,
 "nbformat_minor": 5
}
